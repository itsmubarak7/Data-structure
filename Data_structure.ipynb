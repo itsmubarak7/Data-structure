{
  "nbformat": 4,
  "nbformat_minor": 0,
  "metadata": {
    "colab": {
      "provenance": []
    },
    "kernelspec": {
      "name": "python3",
      "display_name": "Python 3"
    },
    "language_info": {
      "name": "python"
    }
  },
  "cells": [
    {
      "cell_type": "markdown",
      "source": [],
      "metadata": {
        "id": "joT507GtYhj0"
      }
    },
    {
      "cell_type": "markdown",
      "source": [
        "#1. What are data structures, and why are they important ?\n",
        "\n",
        "A data structure is a way of organizing, managing, and storing data efficiently so that it can be accessed and modified easily. They are essential in programming because they determine how data is processed and utilized in algorithms .\n",
        "\n",
        "#2. Explain the difference between mutable and immutable data types with examples .\n",
        "\n",
        "Mutable data type can be edited or modified. Immutable data type can't be edited or modified .\n",
        "\n",
        "for example:\n",
        "\n",
        "list1= [1,2,2,4,\"hat\"]\n",
        "list1.append(\"mango\") #list is mutable data type.\n",
        "\n",
        "tuple=(1,2,3,4,\"man\")\n",
        "tuple[0}=5   #tuple can't be modified data type.\n",
        "\n",
        "#3. What are the main differences between lists and tuples in Python ?\n",
        "\n",
        "List is mutable data type ( data can be modified ) whereas tuple is immutable kind of data type ( data can't be modified ).\n",
        "\n",
        "#4. Describe how dictionaries store data ?\n",
        "\n",
        "Dictionaries store data in key : value format where every key is assigned a value and every value has a key .\n",
        "\n",
        "for example : x= \"age\":25\n",
        "\n",
        "#5. Why might you use a set instead of a list in Python ?\n",
        "\n",
        "A set and a list are both used to store collections of elements, but they have key differences in terms of performance and functionality.\n",
        "\n",
        "- Uniqueness – A set automatically removes duplicate elements, whereas a list allows duplicates.\n",
        "- Set Operations – Sets support mathematical operations like union, intersection, difference, which are useful in handling unique collections of data.\n",
        "\n",
        "#6. What is a string in Python, and how is it different from a list ?\n",
        "\n",
        "String is a alphabetical character stored in single or double quote (\"\",''), a string is immutable whereas list is mutable .\n",
        "\n",
        "#7. How do tuples ensure data integrity in Python ?\n",
        "\n",
        "A tuple is an immutable sequence in Python, meaning once it is created, its elements cannot be changed, added, or removed. This immutability plays a key role in ensuring data integrity .\n",
        "\n",
        "#8. What is a hash table, and how does it relate to dictionaries in Python ?\n",
        "\n",
        "A hash table (or hash map) is a data structure that stores key-value pairs and allows for efficient lookup, insertion, and deletion.\n",
        "\n",
        "Both hash and dictionaries store data in key-value pairs.\n",
        "\n",
        "#9. Can lists contain different data types in Python ?\n",
        "\n",
        "Yes, list can contains different type of data type ( integer, string, boolean)\n",
        "\n",
        "#10. Explain why strings are immutable in Python ?\n",
        "\n",
        "String is immutable in nature (can't modified or altered). following have advantage :-\n",
        "\n",
        "- Memory Efficiency (String Interning) .\n",
        "- Hashability & Dictionary Keys .\n",
        "- Security (Avoids Accidental Modification) .\n",
        "\n",
        "#11. What advantages do dictionaries offer over lists for certain tasks ?\n",
        "\n",
        "Dictionaries offer (key:value) data structure which helps to assign a value and easily callable . Dictionary have following advantage .\n",
        "\n",
        "- More Intuitive Key-Based Access\n",
        "- No Need for Manual Indexing\n",
        "- Dictionaries Are More Flexible\n",
        "\n",
        "#12. Describe a scenario where using a tuple would be preferable over a list.\n",
        "\n",
        "A tuple is preferable over a list when you need immutable, fixed data that should not change.\n",
        "\n",
        "#13. How do sets handle duplicate values in Python ?\n",
        "\n",
        "In Python, a set is an unordered collection of unique elements. Duplicate values are automatically removed when added to a set.\n",
        "\n",
        "#14. How does the “in” keyword work differently for lists and dictionaries ?\n",
        "\n",
        "The in keyword is used to check if an element exists in a collection. However, it behaves differently for lists and dictionaries due to how they store data.\n",
        "\n",
        "- in with Lists (O(n) - Slow for Large Lists).\n",
        "- in with Dictionaries (O(1) - Much Faster!).\n",
        "\n",
        "#15. Can you modify the elements of a tuple? Explain why or why not ?\n",
        "\n",
        "Tuple is immutable in nature (can't modified or alter).\n",
        "\n",
        "#16. What is a nested dictionary, and give an example of its use case ?\n",
        "\n",
        "A nested dictionary is a dictionary inside another dictionary. This allows for hierarchical or structured data storage, making it useful for complex datasets.\n",
        "\n",
        "students = {\n",
        "    \"Alice\": {\"age\": 25, \"grades\": {\"math\": 90, \"science\": 85}},\n",
        "    \"Bob\": {\"age\": 22, \"grades\": {\"math\": 88, \"science\": 80}},\n",
        "}\n",
        "\n",
        "print(students[\"Alice\"][\"grades\"][\"math\"])   # Output: 90\n",
        "\n",
        "#17. Describe the time complexity of accessing elements in a dictionary ?\n",
        "\n",
        "Python dictionaries use a hash table internally, making element access very efficient. The time complexity depends on whether the operation is best case (average) or worst case.\n",
        "\n",
        "#18. In what situations are lists preferred over dictionaries ?\n",
        "\n",
        "- When You Need Indexed Access.\n",
        "  Lists allow access using numeric indexes (O(1)).\n",
        "  Dictionaries require key-based access, which may not always be convenient.\n",
        "- When You Need to Store Homogeneous Data.\n",
        "  Lists are ideal for storing similar data types (e.g., a list of numbers or\n",
        "  names).\n",
        "  Dictionaries store key-value pairs, which may be unnecessary for simple collections.\n",
        "\n",
        "#19. Why are dictionaries considered unordered, and how does that affect data retrieval ?\n",
        "\n",
        "- Python dictionaries use a hash table internally.\n",
        "- Hash tables store elements based on computed hash values, not insertion order.\n",
        "- The arrangement of keys depended on the hashing algorithm, making the order unpredictable.\n",
        "\n",
        "#20. Explain the difference between a list and a dictionary in terms of data retrieval .\n",
        "\n",
        "- Lists store elements sequentially and allow access via indexing.\n",
        "- Dictionaries use a hash table, allowing fast key-based lookups.\n",
        "- Use lists when order and index-based access are important.\n",
        "- Use dictionaries when you need fast lookups based on unique keys.\n"
      ],
      "metadata": {
        "id": "C-CclChyYkvt"
      }
    },
    {
      "cell_type": "code",
      "source": [
        "#1. Write a code to create a string with your name and print it .\n",
        "\n",
        "name=\"Mubarak\"\n",
        "print(name)"
      ],
      "metadata": {
        "id": "3v3GzLL0-SLl"
      },
      "execution_count": null,
      "outputs": []
    },
    {
      "cell_type": "code",
      "source": [
        "#2. Write a code to find the length of the string \"Hello World\" ?\n",
        "\n",
        "string=\"Hello World\"\n",
        "print(len(string))"
      ],
      "metadata": {
        "id": "e0-JzS1s-l-I"
      },
      "execution_count": null,
      "outputs": []
    },
    {
      "cell_type": "code",
      "source": [
        "#3. Write a code to slice the first 3 characters from the string \"Python Programming\" ?\n",
        "\n",
        "string=\"Python Programming\"\n",
        "print(string[0:3])"
      ],
      "metadata": {
        "id": "-gPMnvX3-6Vz"
      },
      "execution_count": null,
      "outputs": []
    },
    {
      "cell_type": "code",
      "source": [
        "#4. Write a code to convert the string \"hello\" to uppercase ?\n",
        "\n",
        "string=\"hello\"\n",
        "print(string.upper())"
      ],
      "metadata": {
        "id": "LVi_Pb4y_I5p"
      },
      "execution_count": null,
      "outputs": []
    },
    {
      "cell_type": "code",
      "source": [
        "#5. Write a code to replace the word \"apple\" with \"orange\" in the string \"I like apple\" ?\n",
        "\n",
        "string=\"I like apple\"\n",
        "print(string.replace(\"apple\",\"orange\"))"
      ],
      "metadata": {
        "id": "pRVmPkkkBO-Z"
      },
      "execution_count": null,
      "outputs": []
    },
    {
      "cell_type": "code",
      "source": [
        "#6. Write a code to create a list with numbers 1 to 5 and print it ?\n",
        "\n",
        "list=[1,2,3,4,5]\n",
        "print(list)"
      ],
      "metadata": {
        "id": "51jqMHxbCVL0"
      },
      "execution_count": null,
      "outputs": []
    },
    {
      "cell_type": "code",
      "source": [
        "#7. Write a code to append the number 10 to the list [1, 2, 3, 4] ?\n",
        "\n",
        "list=[1,2,3,4]\n",
        "list.append(10)\n",
        "print(list)"
      ],
      "metadata": {
        "id": "c3RB6YWfD_Qz"
      },
      "execution_count": null,
      "outputs": []
    },
    {
      "cell_type": "code",
      "source": [
        "#8. Write a code to remove the number 3 from the list [1, 2, 3, 4, 5] ?\n",
        "\n",
        "\n",
        "list=[1,2,3,4,5]\n",
        "list.remove(3)\n",
        "print(list)\n"
      ],
      "metadata": {
        "id": "9kxIebzxE6yZ"
      },
      "execution_count": null,
      "outputs": []
    },
    {
      "cell_type": "code",
      "source": [
        "#9. Write a code to access the second element in the list ['a', 'b', 'c', 'd'] ?\n",
        "\n",
        "list=['a','b','c','d']\n",
        "print(list[1])"
      ],
      "metadata": {
        "id": "RuaiqOvOGLWN"
      },
      "execution_count": null,
      "outputs": []
    },
    {
      "cell_type": "code",
      "source": [
        "#10. Write a code to reverse the list [10, 20, 30, 40, 50] ?\n",
        "\n",
        "list=[10,20,30,40,50]\n",
        "print(list[::-1])\n"
      ],
      "metadata": {
        "id": "DcADXtrSGUcv"
      },
      "execution_count": null,
      "outputs": []
    },
    {
      "cell_type": "code",
      "source": [
        "#11. Write a code to create a tuple with the elements 100, 200, 300 and print it.\n",
        "\n",
        "tuple=(100,200,300)\n",
        "print(tuple)"
      ],
      "metadata": {
        "id": "eSlhB67Tz86x"
      },
      "execution_count": null,
      "outputs": []
    },
    {
      "cell_type": "code",
      "source": [
        "#12. Write a code to access the second-to-last element of the tuple ('red', 'green', 'blue', 'yellow').\n",
        "\n",
        "tuple=('red','green','blue','yellow')\n",
        "print(tuple[-2])"
      ],
      "metadata": {
        "id": "1QFxYLad0auF"
      },
      "execution_count": null,
      "outputs": []
    },
    {
      "cell_type": "code",
      "source": [
        "#13. Write a code to find the minimum number in the tuple (10, 20, 5, 15).\n",
        "\n",
        "tuple=(10,20,5,15)\n",
        "print(min(tuple))"
      ],
      "metadata": {
        "id": "NuZ0NwLd0oNE"
      },
      "execution_count": null,
      "outputs": []
    },
    {
      "cell_type": "code",
      "source": [
        "#14. Write a code to find the index of the element \"cat\" in the tuple ('dog', 'cat', 'rabbit').\n",
        "\n",
        "tuple=('dog','cat','rabbit')\n",
        "print(tuple.index('cat'))\n"
      ],
      "metadata": {
        "id": "dg_wWmvT1IlK"
      },
      "execution_count": null,
      "outputs": []
    },
    {
      "cell_type": "code",
      "source": [
        "#15. Write a code to create a tuple containing three different fruits and check if \"kiwi\" is in it.\n",
        "\n",
        "tuple=('apple','mango','banana')\n",
        "print('kiwi' in tuple) # return false as no kiwi element in tuple\n"
      ],
      "metadata": {
        "id": "muAkTHpr1bQ0"
      },
      "execution_count": null,
      "outputs": []
    },
    {
      "cell_type": "code",
      "source": [
        "#16. Write a code to create a set with the elements 'a', 'b', 'c' and print it.\n",
        "\n",
        "set={'a','b','c'}\n",
        "print(set)"
      ],
      "metadata": {
        "id": "U80QPhJ_167B"
      },
      "execution_count": null,
      "outputs": []
    },
    {
      "cell_type": "code",
      "source": [
        "#17. Write a code to clear all elements from the set {1, 2, 3, 4, 5}.\n",
        "\n",
        "set={1,2,3,4,5}\n",
        "set.clear()\n",
        "print(set)"
      ],
      "metadata": {
        "id": "mt7K5rum2UYw"
      },
      "execution_count": null,
      "outputs": []
    },
    {
      "cell_type": "code",
      "source": [
        "#18. Write a code to remove the element 4 from the set {1, 2, 3, 4}.\n",
        "\n",
        "set={1,2,3,4}\n",
        "set.remove(4)\n",
        "print(set)"
      ],
      "metadata": {
        "id": "3cmA9nyO26B7"
      },
      "execution_count": null,
      "outputs": []
    },
    {
      "cell_type": "code",
      "source": [
        "#19.  Write a code to find the union of two sets {1, 2, 3} and {3, 4, 5}.\n",
        "\n",
        "set1={1,2,3}\n",
        "set2={3,4,5}\n",
        "print(set1.union(set2))"
      ],
      "metadata": {
        "id": "XHWUhkI827BV"
      },
      "execution_count": null,
      "outputs": []
    },
    {
      "cell_type": "code",
      "source": [
        "#20. Write a code to find the intersection of two sets {1, 2, 3} and {2, 3, 4}.\n",
        "\n",
        "set1={1,2,3}\n",
        "set2={2,3,4}\n",
        "print(set1.intersection(set2))"
      ],
      "metadata": {
        "id": "M5ew4dPA2613"
      },
      "execution_count": null,
      "outputs": []
    },
    {
      "cell_type": "code",
      "source": [
        "#21. Write a code to create a dictionary with the keys \"name\", \"age\", and \"city\", and print it.\n",
        "\n",
        "dict= {\"name\":\"Mubarak\",\"age\":20,\"city\":\"Karachi\"}\n",
        "print(dict)"
      ],
      "metadata": {
        "id": "6DCzY4B826nk"
      },
      "execution_count": null,
      "outputs": []
    },
    {
      "cell_type": "code",
      "source": [
        "#22. Write a code to add a new key-value pair \"country\": \"USA\" to the dictionary {'name': 'John', 'age': 25}.\n",
        "\n",
        "dict={\"name\":\"Mubarak\",\"age\":20}\n",
        "dict[\"country\"]=\"USA\"\n",
        "print(dict)\n"
      ],
      "metadata": {
        "id": "g8w-tlt547cX"
      },
      "execution_count": null,
      "outputs": []
    },
    {
      "cell_type": "code",
      "source": [
        "#23. Write a code to access the value associated with the key \"name\" in the dictionary {'name': 'Alice', 'age': 30}.\n",
        "\n",
        "dict={\"name\":\"Mubarak\",\"age\":20}\n",
        "print(dict[\"name\"])"
      ],
      "metadata": {
        "id": "Pri7LnFi5bEd"
      },
      "execution_count": null,
      "outputs": []
    },
    {
      "cell_type": "code",
      "source": [
        "#24. Write a code to remove the key \"age\" from the dictionary {'name': 'Bob', 'age': 22, 'city': 'New York'}.\n",
        "\n",
        "dict={\"name\":\"Mubarak\",\"age\":20}\n",
        "dict.pop(\"age\")\n",
        "print(dict)"
      ],
      "metadata": {
        "id": "l7zuA-q_6aNt"
      },
      "execution_count": null,
      "outputs": []
    },
    {
      "cell_type": "code",
      "source": [
        "#25. Write a code to check if the key \"city\" exists in the dictionary {'name': 'Alice', 'city': 'Paris'}.\n",
        "\n",
        "dict={\"name\":\"Mubarak\",'city': 'Paris'}\n",
        "print(\"city\" in dict)"
      ],
      "metadata": {
        "id": "vc-Wyb-Z6Z6g"
      },
      "execution_count": null,
      "outputs": []
    },
    {
      "cell_type": "code",
      "source": [
        "#26. Write a code to create a list, a tuple, and a dictionary, and print them all.\n",
        "\n",
        "list=[1,2,3,4]\n",
        "tuple=(1,2,3,4)\n",
        "dict={\"name\":\"Mubarak\",\"age\":20}\n",
        "print(list)\n",
        "print(tuple)\n",
        "print(dict)"
      ],
      "metadata": {
        "id": "s46SgSLQ6Zub"
      },
      "execution_count": null,
      "outputs": []
    },
    {
      "cell_type": "code",
      "source": [
        "#27. Write a code to create a list of 5 random numbers between 1 and 100, sort it in ascending order, and print the result.(replaced)\n",
        "\n",
        "import random\n",
        "list=[random.randint(1,100) for i in range(5)]\n",
        "list.sort()\n",
        "print(list)"
      ],
      "metadata": {
        "id": "aFh_Uuht6Zib"
      },
      "execution_count": null,
      "outputs": []
    },
    {
      "cell_type": "code",
      "source": [
        "#28. Write a code to create a list with strings and print the element at the third index.\n",
        "\n",
        "list=[\"apple\",\"mango\",\"banana\",\"orange\"]\n",
        "print(list[2])"
      ],
      "metadata": {
        "id": "k08HwZX98PV-"
      },
      "execution_count": null,
      "outputs": []
    },
    {
      "cell_type": "code",
      "source": [
        "#29. Write a code to combine two dictionaries into one and print the result.\n",
        "\n",
        "dict1= {\"name\":\"Mubarak\",\"age\":20}\n",
        "dict2= {\"city\":\"Karachi\",\"country\":\"Pakistan\"}\n",
        "dict1.update(dict2)\n",
        "print(dict1)"
      ],
      "metadata": {
        "id": "RlQf_yXs9Avl"
      },
      "execution_count": null,
      "outputs": []
    },
    {
      "cell_type": "code",
      "source": [
        "#30. Write a code to convert a list of strings into a set.\n",
        "\n",
        "list=[\"apple\",\"mango\",\"banana\",\"orange\"]\n",
        "print(set(list))"
      ],
      "metadata": {
        "id": "Od_zToCd-UVp"
      },
      "execution_count": null,
      "outputs": []
    }
  ]
}